{
  "cells": [
    {
      "cell_type": "code",
      "execution_count": 3,
      "metadata": {
        "id": "mKQyJhQHOoaR"
      },
      "outputs": [],
      "source": [
        "import numpy as np\n",
        "import pandas as pd\n",
        "from sklearn.model_selection import train_test_split, GridSearchCV\n",
        "from sklearn.preprocessing import StandardScaler\n",
        "from sklearn.ensemble import RandomForestClassifier\n",
        "from xgboost import XGBClassifier\n",
        "from sklearn.metrics import accuracy_score, classification_report, confusion_matrix\n",
        "from sklearn.feature_selection import RFE\n"
      ]
    },
    {
      "cell_type": "code",
      "execution_count": 2,
      "metadata": {},
      "outputs": [
        {
          "name": "stdout",
          "output_type": "stream",
          "text": [
            "Collecting xgboost\n",
            "  Using cached xgboost-3.0.2-py3-none-win_amd64.whl.metadata (2.1 kB)\n",
            "Requirement already satisfied: numpy in d:\\downloads\\diseasepredictions-web-application-with-flask-main\\.venv\\lib\\site-packages (from xgboost) (2.2.6)\n",
            "Requirement already satisfied: scipy in d:\\downloads\\diseasepredictions-web-application-with-flask-main\\.venv\\lib\\site-packages (from xgboost) (1.15.3)\n",
            "Using cached xgboost-3.0.2-py3-none-win_amd64.whl (150.0 MB)\n",
            "Installing collected packages: xgboost\n",
            "Successfully installed xgboost-3.0.2\n",
            "Note: you may need to restart the kernel to use updated packages.\n"
          ]
        }
      ],
      "source": [
        "pip install xgboost\n"
      ]
    },
    {
      "cell_type": "code",
      "execution_count": 4,
      "metadata": {
        "colab": {
          "base_uri": "https://localhost:8080/"
        },
        "id": "O-g3nxQXOyPo",
        "outputId": "496674ba-5425-4621-9969-578a731fd3c3"
      },
      "outputs": [
        {
          "name": "stdout",
          "output_type": "stream",
          "text": [
            "Fitting 5 folds for each of 36 candidates, totalling 180 fits\n"
          ]
        },
        {
          "name": "stderr",
          "output_type": "stream",
          "text": [
            "d:\\Downloads\\DiseasePredictions-Web-application-with-Flask-main\\.venv\\lib\\site-packages\\xgboost\\training.py:183: UserWarning: [12:28:11] WARNING: C:\\actions-runner\\_work\\xgboost\\xgboost\\src\\learner.cc:738: \n",
            "Parameters: { \"use_label_encoder\" } are not used.\n",
            "\n",
            "  bst.update(dtrain, iteration=i, fobj=obj)\n"
          ]
        },
        {
          "name": "stdout",
          "output_type": "stream",
          "text": [
            "\n",
            "✅ Accuracy: 0.90\n",
            "\n",
            "📋 Classification Report:\n",
            "              precision    recall  f1-score   support\n",
            "\n",
            "           0       0.80      0.57      0.67         7\n",
            "           1       0.91      0.97      0.94        32\n",
            "\n",
            "    accuracy                           0.90        39\n",
            "   macro avg       0.86      0.77      0.80        39\n",
            "weighted avg       0.89      0.90      0.89        39\n",
            "\n",
            "\n",
            "🧮 Confusion Matrix:\n",
            "[[ 4  3]\n",
            " [ 1 31]]\n",
            "\n",
            "🔧 Best Parameters: {'learning_rate': 0.01, 'max_depth': None, 'n_estimators': 200}\n",
            "\n",
            "💾 Model, scaler, and RFE selector saved successfully!\n"
          ]
        }
      ],
      "source": [
        "import pandas as pd\n",
        "import numpy as np\n",
        "import os\n",
        "import joblib\n",
        "\n",
        "from sklearn.model_selection import train_test_split, GridSearchCV\n",
        "from sklearn.preprocessing import StandardScaler\n",
        "from sklearn.feature_selection import RFE\n",
        "from sklearn.metrics import accuracy_score, classification_report, confusion_matrix\n",
        "\n",
        "from sklearn.ensemble import RandomForestClassifier\n",
        "from xgboost import XGBClassifier\n",
        "\n",
        "# Step 1: Load the data\n",
        "data = pd.read_csv(r'd:\\Downloads\\DiseasePredictions-Web-application-with-Flask-main\\DataSet\\parkinsons.csv')\n",
        "\n",
        "# Step 2: Separate features and target\n",
        "X = data.drop(['name', 'status'], axis=1)\n",
        "y = data['status']\n",
        "\n",
        "# Step 3: Split into training and testing sets\n",
        "X_train, X_test, y_train, y_test = train_test_split(X, y, test_size=0.2, random_state=42)\n",
        "\n",
        "# Step 4: Standardize features\n",
        "scaler = StandardScaler()\n",
        "X_train_scaled = scaler.fit_transform(X_train)\n",
        "X_test_scaled = scaler.transform(X_test)\n",
        "\n",
        "# Step 5: Feature Selection using RFE\n",
        "rfe_selector = RFE(estimator=RandomForestClassifier(random_state=42), n_features_to_select=10)\n",
        "X_train_rfe = rfe_selector.fit_transform(X_train_scaled, y_train)\n",
        "X_test_rfe = rfe_selector.transform(X_test_scaled)\n",
        "\n",
        "# Step 6: Define hyperparameter grid for XGBClassifier\n",
        "param_grid = {\n",
        "    'n_estimators': [100, 200, 300],\n",
        "    'max_depth': [None, 10, 20, 30],\n",
        "    'learning_rate': [0.01, 0.1, 0.2]\n",
        "}\n",
        "\n",
        "# Step 7: Initialize XGBoost classifier\n",
        "xgb = XGBClassifier(random_state=42, use_label_encoder=False, eval_metric='logloss')\n",
        "\n",
        "# Step 8: Grid Search for best parameters\n",
        "grid_search = GridSearchCV(estimator=xgb, param_grid=param_grid, cv=5, n_jobs=-1, verbose=2)\n",
        "grid_search.fit(X_train_rfe, y_train)\n",
        "\n",
        "# Step 9: Train the best model\n",
        "best_xgb = grid_search.best_estimator_\n",
        "best_xgb.fit(X_train_rfe, y_train)\n",
        "\n",
        "# Step 10: Make predictions\n",
        "y_pred = best_xgb.predict(X_test_rfe)\n",
        "\n",
        "# Step 11: Evaluate\n",
        "print(f\"\\n✅ Accuracy: {accuracy_score(y_test, y_pred):.2f}\")\n",
        "print(\"\\n📋 Classification Report:\")\n",
        "print(classification_report(y_test, y_pred))\n",
        "print(\"\\n🧮 Confusion Matrix:\")\n",
        "print(confusion_matrix(y_test, y_pred))\n",
        "print(\"\\n🔧 Best Parameters:\", grid_search.best_params_)\n",
        "\n",
        "# Step 12: Save the model and scaler\n",
        "os.makedirs('saved_models', exist_ok=True)\n",
        "joblib.dump(best_xgb, 'saved_models/parkinsons_model.sav')\n",
        "joblib.dump(scaler, 'saved_models/parkinsons_scaler.pkl')\n",
        "joblib.dump(rfe_selector, 'saved_models/parkinsons_rfe.pkl')\n",
        "\n",
        "print(\"\\n💾 Model, scaler, and RFE selector saved successfully!\")\n"
      ]
    },
    {
      "cell_type": "code",
      "execution_count": 5,
      "metadata": {
        "id": "w9zcTJBJPUxp"
      },
      "outputs": [],
      "source": [
        "import pickle"
      ]
    },
    {
      "cell_type": "code",
      "execution_count": 6,
      "metadata": {
        "id": "LYuwPjVpQPDi"
      },
      "outputs": [],
      "source": [
        "filename = 'parkinsons_model.sav'\n",
        "pickle.dump(xgb, open(filename, 'wb'))"
      ]
    },
    {
      "cell_type": "code",
      "execution_count": null,
      "metadata": {
        "id": "Hl4pK3oPQZOI"
      },
      "outputs": [],
      "source": []
    }
  ],
  "metadata": {
    "colab": {
      "provenance": []
    },
    "kernelspec": {
      "display_name": ".venv",
      "language": "python",
      "name": "python3"
    },
    "language_info": {
      "codemirror_mode": {
        "name": "ipython",
        "version": 3
      },
      "file_extension": ".py",
      "mimetype": "text/x-python",
      "name": "python",
      "nbconvert_exporter": "python",
      "pygments_lexer": "ipython3",
      "version": "3.10.0"
    }
  },
  "nbformat": 4,
  "nbformat_minor": 0
}
